{
 "cells": [
  {
   "cell_type": "code",
   "execution_count": 1,
   "metadata": {},
   "outputs": [],
   "source": [
    "import torch,torchvision, numpy\n",
    "from torch.nn import ReLU, Sequential\n",
    "import matplotlib.pyplot as plt"
   ]
  },
  {
   "cell_type": "code",
   "execution_count": 2,
   "metadata": {},
   "outputs": [
    {
     "name": "stdout",
     "output_type": "stream",
     "text": [
      "Files already downloaded and verified\n"
     ]
    }
   ],
   "source": [
    "    test_data = torchvision.datasets.CIFAR10(\n",
    "        \"datasets\",\n",
    "        download = True,\n",
    "        transform = torchvision.transforms.ToTensor(),\n",
    "        train=False\n",
    "        )\n",
    "\n",
    "    test_loader = torch.utils.data.DataLoader(\n",
    "        test_data,\n",
    "        batch_size = 1,\n",
    "        shuffle = True,\n",
    "        num_workers = 4\n",
    "        )"
   ]
  },
  {
   "cell_type": "code",
   "execution_count": 3,
   "metadata": {},
   "outputs": [
    {
     "name": "stdout",
     "output_type": "stream",
     "text": [
      "conv1\n",
      "bn1\n",
      "relu\n",
      "ReLu\n",
      "maxpool\n",
      "layer1\n",
      "Sequential\n",
      "layer2\n",
      "Sequential\n",
      "layer3\n",
      "Sequential\n",
      "layer4\n",
      "Sequential\n",
      "avgpool\n",
      "fc\n",
      "Registering Hook\n"
     ]
    }
   ],
   "source": [
    "    device = torch.device(\"cuda:0\" if torch.cuda.is_available() else \"cpu\")\n",
    "    network = torchvision.models.resnet18()\n",
    "    network._modules['fc'] = torch.nn.Linear(in_features=512, out_features=10, bias=True)\n",
    "    network.load_state_dict(torch.load('saved_model.pth',map_location=torch.device('cpu')))\n",
    "\n",
    "    from guided_backprop import GetGradient\n",
    "    GG = GetGradient(network)"
   ]
  },
  {
   "cell_type": "code",
   "execution_count": 15,
   "metadata": {
    "scrolled": true
   },
   "outputs": [
    {
     "name": "stdout",
     "output_type": "stream",
     "text": [
      "tensor([4])\n",
      "[4]\n",
      "hej\n"
     ]
    },
    {
     "data": {
      "image/png": "[encoded data removed]",
      "text/plain": [
       "<Figure size 432x288 with 1 Axes>"
      ]
     },
     "metadata": {
      "needs_background": "light"
     },
     "output_type": "display_data"
    },
    {
     "data": {
      "image/png": "[encoded data removed]",
      "text/plain": [
       "<Figure size 432x288 with 1 Axes>"
      ]
     },
     "metadata": {
      "needs_background": "light"
     },
     "output_type": "display_data"
    },
    {
     "name": "stdout",
     "output_type": "stream",
     "text": [
      "tensor([4])\n",
      "4\n"
     ]
    }
   ],
   "source": [
    "img,label = next(iter(test_loader))\n",
    "out = network(img)\n",
    "s_img = numpy.array(numpy.squeeze(img))\n",
    "gradients = GG.calculate_gradients(img,label)\n",
    "\n",
    "\n",
    "\n",
    "plt.imshow(numpy.moveaxis(s_img,0, -1))\n",
    "plt.show()\n",
    "plt.imshow(gradients[0] + gradients[1] + gradients[2],cmap=\"gray\")\n",
    "plt.show()\n",
    "\n",
    "print(label)\n",
    "print(out.detach().numpy().argmax())"
   ]
  },
  {
   "cell_type": "code",
   "execution_count": null,
   "metadata": {},
   "outputs": [],
   "source": [
    "out.detach().numpy().argmax()"
   ]
  }
 ],
 "metadata": {
  "kernelspec": {
   "display_name": "Python 3",
   "language": "python",
   "name": "python3"
  },
  "language_info": {
   "codemirror_mode": {
    "name": "ipython",
    "version": 3
   },
   "file_extension": ".py",
   "mimetype": "text/x-python",
   "name": "python",
   "nbconvert_exporter": "python",
   "pygments_lexer": "ipython3",
   "version": "3.8.5"
  }
 },
 "nbformat": 4,
 "nbformat_minor": 4
}
